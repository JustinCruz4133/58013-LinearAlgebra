{
  "nbformat": 4,
  "nbformat_minor": 0,
  "metadata": {
    "colab": {
      "provenance": [],
      "authorship_tag": "ABX9TyN+12G+jM7GNGZv+xKDjyAQ",
      "include_colab_link": true
    },
    "kernelspec": {
      "name": "python3",
      "display_name": "Python 3"
    },
    "language_info": {
      "name": "python"
    }
  },
  "cells": [
    {
      "cell_type": "markdown",
      "metadata": {
        "id": "view-in-github",
        "colab_type": "text"
      },
      "source": [
        "<a href=\"https://colab.research.google.com/github/JustinCruz4133/58013-LinearAlgebra/blob/main/Python_Exercise_9.ipynb\" target=\"_parent\"><img src=\"https://colab.research.google.com/assets/colab-badge.svg\" alt=\"Open In Colab\"/></a>"
      ]
    },
    {
      "cell_type": "code",
      "execution_count": 1,
      "metadata": {
        "id": "dhq3RoSs2T5M"
      },
      "outputs": [],
      "source": [
        "import numpy as np\n",
        "import matplotlib.pyplot as plt\n",
        "%matplotlib inline"
      ]
    },
    {
      "cell_type": "code",
      "source": [
        "A = np.array([\n",
        "    [1,4],\n",
        "    [0,3]\n",
        "])\n",
        "round(np.linalg.det(A))"
      ],
      "metadata": {
        "colab": {
          "base_uri": "https://localhost:8080/"
        },
        "id": "QA0o_Dsb3uG3",
        "outputId": "8c185a11-b67d-47a9-d3f2-403bc492dfc1"
      },
      "execution_count": 3,
      "outputs": [
        {
          "output_type": "execute_result",
          "data": {
            "text/plain": [
              "3"
            ]
          },
          "metadata": {},
          "execution_count": 3
        }
      ]
    },
    {
      "cell_type": "code",
      "source": [
        "## Now other mathematics classes would require you to solve this by hand,\n",
        "## and that is great for practicing your memorization and coordination skills\n",
        "## but in this class we aim for simplicity and speed so we'll use programming\n",
        "## but it's completely fine if you want to try to solve this one by hand.\n",
        "B = np.array([\n",
        "    [1,3,5,6],\n",
        "    [0,3,1,3],\n",
        "    [3,1,8,2],\n",
        "    [5,2,6,8]\n",
        "])\n",
        "round(np.linalg.det(B))"
      ],
      "metadata": {
        "colab": {
          "base_uri": "https://localhost:8080/"
        },
        "id": "g-nR3qGT33gO",
        "outputId": "36b19ac3-3064-4caa-ac15-c47480931b0f"
      },
      "execution_count": 24,
      "outputs": [
        {
          "output_type": "execute_result",
          "data": {
            "text/plain": [
              "-235"
            ]
          },
          "metadata": {},
          "execution_count": 24
        }
      ]
    },
    {
      "cell_type": "code",
      "source": [
        "#Associative Property\n",
        "print(\"Associative Property: (AB)C = A(BC)\")\n",
        "A = np.array([[1,2,3],[4,5,6],[7,8,9]])\n",
        "B = np.array([[4,5,6],[2,1,3],[9,7,8]])\n",
        "C = np.array([[8,3,9],[2,8,4],[9,2,5]])\n",
        "print(\"A:\\n\",A)\n",
        "print(\"B:\\n\",B)\n",
        "print(\"C:\\n\",C)\n",
        "\n",
        "AB = np.dot(A,B)\n",
        "ABC = np.dot(AB,C)\n",
        "print(\"\\n(AB)C = \\n\", ABC)\n",
        "\n",
        "BC = np.dot(B,C)\n",
        "BCA = np.dot(A,BC)\n",
        "print(\"A(BC) = \\n\", BCA)"
      ],
      "metadata": {
        "colab": {
          "base_uri": "https://localhost:8080/"
        },
        "id": "MdoqZNbn-2nY",
        "outputId": "306f25f4-09f2-4f94-8664-29db5c9c8f17"
      },
      "execution_count": 26,
      "outputs": [
        {
          "output_type": "stream",
          "name": "stdout",
          "text": [
            "Associative Property: (AB)C = A(BC)\n",
            "A:\n",
            " [[1 2 3]\n",
            " [4 5 6]\n",
            " [7 8 9]]\n",
            "B:\n",
            " [[4 5 6]\n",
            " [2 1 3]\n",
            " [9 7 8]]\n",
            "C:\n",
            " [[8 3 9]\n",
            " [2 8 4]\n",
            " [9 2 5]]\n",
            "\n",
            "(AB)C = \n",
            " [[ 660  401  607]\n",
            " [1557  950 1423]\n",
            " [2454 1499 2239]]\n",
            "A(BC) = \n",
            " [[ 660  401  607]\n",
            " [1557  950 1423]\n",
            " [2454 1499 2239]]\n"
          ]
        }
      ]
    },
    {
      "cell_type": "code",
      "source": [
        "#Distributive Property\n",
        "print(\"Distributive Property: A(B+C) = AB + AC\")\n",
        "A = np.array([[1,2,3],[4,5,6],[7,8,9]])\n",
        "B = np.array([[4,5,6],[2,1,3],[9,7,8]])\n",
        "C = np.array([[8,3,9],[2,8,4],[9,2,5]])\n",
        "print(\"A:\\n\",A)\n",
        "print(\"B:\\n\",B)\n",
        "print(\"C:\\n\",C)\n",
        "\n",
        "B_C = np.add(B,C)\n",
        "AB_C = np.dot(A,B_C)\n",
        "print(\"\\nA(B+C) = \\n\", AB_C)\n",
        "\n",
        "AB = np.dot(A,B)\n",
        "AC = np.dot(A,C)\n",
        "AB_AC = np.add(AB,AC)\n",
        "print(\"AB + AC = \\n\", AB_AC)"
      ],
      "metadata": {
        "colab": {
          "base_uri": "https://localhost:8080/"
        },
        "id": "V0j83QcDDajV",
        "outputId": "c7309f16-72d3-4c63-ad9e-a3653beae313"
      },
      "execution_count": 27,
      "outputs": [
        {
          "output_type": "stream",
          "name": "stdout",
          "text": [
            "Distributive Property: A(B+C) = AB + AC\n",
            "A:\n",
            " [[1 2 3]\n",
            " [4 5 6]\n",
            " [7 8 9]]\n",
            "B:\n",
            " [[4 5 6]\n",
            " [2 1 3]\n",
            " [9 7 8]]\n",
            "C:\n",
            " [[8 3 9]\n",
            " [2 8 4]\n",
            " [9 2 5]]\n",
            "\n",
            "A(B+C) = \n",
            " [[ 74  53  68]\n",
            " [176 131 173]\n",
            " [278 209 278]]\n",
            "AB + AC = \n",
            " [[ 74  53  68]\n",
            " [176 131 173]\n",
            " [278 209 278]]\n"
          ]
        }
      ]
    },
    {
      "cell_type": "code",
      "source": [
        "#Closure Property\n",
        "print(\"Closure Property:\\n\" + \"Multiplication of a scalar(a real number) c and matrix A with size m x n:\\n\" + \"Resulting Matrix should also have the size m x n\")\n",
        "A = np.array([[1,2,3],[4,5,6],[7,8,9]])\n",
        "c = 5\n",
        "print(\"A:\\n\",A)\n",
        "print(\"c:\\n\",c)\n",
        "\n",
        "cA = np.dot(c,A)\n",
        "print(\"\\ncA = \\n\", cA)\n"
      ],
      "metadata": {
        "colab": {
          "base_uri": "https://localhost:8080/"
        },
        "id": "cn8UKzZtE3U0",
        "outputId": "71b29b1b-6361-42e8-8bcc-04ebbb653386"
      },
      "execution_count": 28,
      "outputs": [
        {
          "output_type": "stream",
          "name": "stdout",
          "text": [
            "Closure Property:\n",
            "Multiplication of a scalar(a real number) c and matrix A with size m x n:\n",
            "Resulting Matrix should also have the size m x n\n",
            "A:\n",
            " [[1 2 3]\n",
            " [4 5 6]\n",
            " [7 8 9]]\n",
            "c:\n",
            " 5\n",
            "\n",
            "cA = \n",
            " [[ 5 10 15]\n",
            " [20 25 30]\n",
            " [35 40 45]]\n"
          ]
        }
      ]
    },
    {
      "cell_type": "code",
      "source": [
        "#Multiplicative Identity Property\n",
        "print(\"Multiplicative Identity Property:\\n\" + \"The n x n identity\")\n",
        "\n",
        "\n",
        "#Dimension Property\n",
        "#Multiplicative property of Zero\n"
      ],
      "metadata": {
        "id": "k_gdsdGbHTVv"
      },
      "execution_count": null,
      "outputs": []
    }
  ]
}