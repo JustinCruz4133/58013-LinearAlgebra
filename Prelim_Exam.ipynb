{
  "nbformat": 4,
  "nbformat_minor": 0,
  "metadata": {
    "colab": {
      "provenance": [],
      "authorship_tag": "ABX9TyMattYGnoRDCF+e8VpJ6Gle",
      "include_colab_link": true
    },
    "kernelspec": {
      "name": "python3",
      "display_name": "Python 3"
    },
    "language_info": {
      "name": "python"
    }
  },
  "cells": [
    {
      "cell_type": "markdown",
      "metadata": {
        "id": "view-in-github",
        "colab_type": "text"
      },
      "source": [
        "<a href=\"https://colab.research.google.com/github/JustinCruz4133/58013-LinearAlgebra/blob/main/Prelim_Exam.ipynb\" target=\"_parent\"><img src=\"https://colab.research.google.com/assets/colab-badge.svg\" alt=\"Open In Colab\"/></a>"
      ]
    },
    {
      "cell_type": "code",
      "execution_count": 35,
      "metadata": {
        "colab": {
          "base_uri": "https://localhost:8080/"
        },
        "id": "6tJMLg1Xsm3Y",
        "outputId": "47f3cc6c-7e6e-4cf9-9432-f5d375acfcd5"
      },
      "outputs": [
        {
          "output_type": "stream",
          "name": "stdout",
          "text": [
            "Multiplication Table:\n",
            " [[  1   2   3   4   5   6   7   8   9  10]\n",
            " [  2   4   6   8  10  12  14  16  18  20]\n",
            " [  3   6   9  12  15  18  21  24  27  30]\n",
            " [  4   8  12  16  20  24  28  32  36  40]\n",
            " [  5  10  15  20  25  30  35  40  45  50]\n",
            " [  6  12  18  24  30  36  42  48  54  60]\n",
            " [  7  14  21  28  35  42  49  56  63  70]\n",
            " [  8  16  24  32  40  48  56  64  72  80]\n",
            " [  9  18  27  36  45  54  63  72  81  90]\n",
            " [ 10  20  30  40  50  60  70  80  90 100]]\n"
          ]
        }
      ],
      "source": [
        "# Question 1. (20 points) Create a Multiplication Table/Chart of 1 to 10 using numpy/ python program.\n",
        "import numpy as np\n",
        "\n",
        "def table(n):\n",
        "    num = np.arange(1, n+1)\n",
        "    return num * num[:, None]\n",
        "\n",
        "print(\"Multiplication Table:\\n\", table(10))"
      ]
    },
    {
      "cell_type": "code",
      "source": [
        "# Question 2. (10 points) In relation to Question 1, show a solution that doubles all the values of each element.\n",
        "print(\"Multiplcation Table (Doubled Values):\\n\", table(10)*2)"
      ],
      "metadata": {
        "colab": {
          "base_uri": "https://localhost:8080/"
        },
        "id": "ljTSqQLLtBUs",
        "outputId": "3604ce61-e0a7-490b-a484-e5a2182f9500"
      },
      "execution_count": 36,
      "outputs": [
        {
          "output_type": "stream",
          "name": "stdout",
          "text": [
            "Multiplcation Table (Doubled Values):\n",
            " [[  2   4   6   8  10  12  14  16  18  20]\n",
            " [  4   8  12  16  20  24  28  32  36  40]\n",
            " [  6  12  18  24  30  36  42  48  54  60]\n",
            " [  8  16  24  32  40  48  56  64  72  80]\n",
            " [ 10  20  30  40  50  60  70  80  90 100]\n",
            " [ 12  24  36  48  60  72  84  96 108 120]\n",
            " [ 14  28  42  56  70  84  98 112 126 140]\n",
            " [ 16  32  48  64  80  96 112 128 144 160]\n",
            " [ 18  36  54  72  90 108 126 144 162 180]\n",
            " [ 20  40  60  80 100 120 140 160 180 200]]\n"
          ]
        }
      ]
    },
    {
      "cell_type": "code",
      "source": [
        "# Question 3. (10 points) Create a square matrix that has a diagonal 1's.\n",
        "import numpy as np\n",
        "dia = np.eye(5, 5)\n",
        "print(dia)"
      ],
      "metadata": {
        "colab": {
          "base_uri": "https://localhost:8080/"
        },
        "id": "KbCPXGSetE0L",
        "outputId": "b197f291-d82b-4ba5-b9b8-56a7c72b780a"
      },
      "execution_count": 15,
      "outputs": [
        {
          "output_type": "stream",
          "name": "stdout",
          "text": [
            "[[1. 0. 0. 0. 0.]\n",
            " [0. 1. 0. 0. 0.]\n",
            " [0. 0. 1. 0. 0.]\n",
            " [0. 0. 0. 1. 0.]\n",
            " [0. 0. 0. 0. 1.]]\n"
          ]
        }
      ]
    },
    {
      "cell_type": "code",
      "source": [
        "# Question 4. (30 points) Create a matrix whose elements are:\n",
        "# Type a python program that can view the size, shape, and dimension of the matrix above.\n",
        "import numpy as np\n",
        "matrix = np.array([[1, 2, 3, 4], [5, 6, 7, 8], [9, 10, 11, 12]])\n",
        "\n",
        "print(\"Matrix:\\n\", matrix)\n",
        "print(\"\\nProblem: Type a python program that can view the size, shape, and dimension of the matrix above.\")\n",
        "print(\"\\nSize:\", matrix.size)\n",
        "print(\"Shape:\", matrix.shape)\n",
        "print(\"Dimensions:\", matrix.ndim)\n"
      ],
      "metadata": {
        "colab": {
          "base_uri": "https://localhost:8080/"
        },
        "id": "U-_uvy8EtHQb",
        "outputId": "3ca25232-226e-46af-f26f-abde142ae343"
      },
      "execution_count": 34,
      "outputs": [
        {
          "output_type": "stream",
          "name": "stdout",
          "text": [
            "Matrix:\n",
            " [[ 1  2  3  4]\n",
            " [ 5  6  7  8]\n",
            " [ 9 10 11 12]]\n",
            "\n",
            "Problem: Type a python program that can view the size, shape, and dimension of the matrix above.\n",
            "\n",
            "Size: 12\n",
            "Shape: (3, 4)\n",
            "Dimensions: 2\n"
          ]
        }
      ]
    },
    {
      "cell_type": "code",
      "source": [
        "# Question 5. (30 points) Create a result array by adding the following two NumPy arrays. Next, modify the result array by calculating the square of each element.\n",
        "import numpy as numpy\n",
        "arrayOne = numpy.array([[5, 6, 9], [21, 18, 27]])\n",
        "arrayTwo = numpy.array([[15, 33, 24], [4, 7, 1]])\n",
        "\n",
        "print(\"ArrayOne:\\n\", arrayOne)\n",
        "print(\"ArrayTwo:\\n\", arrayTwo)\n",
        "\n",
        "resultarray = np.add(arrayOne, arrayTwo)\n",
        "print(\"\\nArrays Added Together:\\n\", resultarray)\n",
        "\n",
        "print(\"\\nSquared Result Array:\\n\", resultarray ** 2)"
      ],
      "metadata": {
        "colab": {
          "base_uri": "https://localhost:8080/"
        },
        "id": "pRoK1oKPumFH",
        "outputId": "14b4fd61-657d-4164-8324-7fab17797a8c"
      },
      "execution_count": 33,
      "outputs": [
        {
          "output_type": "stream",
          "name": "stdout",
          "text": [
            "ArrayOne:\n",
            " [[ 5  6  9]\n",
            " [21 18 27]]\n",
            "ArrayTwo:\n",
            " [[15 33 24]\n",
            " [ 4  7  1]]\n",
            "\n",
            "Arrays Added Together:\n",
            " [[20 39 33]\n",
            " [25 25 28]]\n",
            "\n",
            "Squared Result Array:\n",
            " [[ 400 1521 1089]\n",
            " [ 625  625  784]]\n"
          ]
        }
      ]
    }
  ]
}