{
  "nbformat": 4,
  "nbformat_minor": 0,
  "metadata": {
    "colab": {
      "provenance": [],
      "authorship_tag": "ABX9TyNtzA04qT8E0x1cAb67yusG",
      "include_colab_link": true
    },
    "kernelspec": {
      "name": "python3",
      "display_name": "Python 3"
    },
    "language_info": {
      "name": "python"
    }
  },
  "cells": [
    {
      "cell_type": "markdown",
      "metadata": {
        "id": "view-in-github",
        "colab_type": "text"
      },
      "source": [
        "<a href=\"https://colab.research.google.com/github/JustinCruz4133/58013-LinearAlgebra/blob/main/Long_Quiz_1.ipynb\" target=\"_parent\"><img src=\"https://colab.research.google.com/assets/colab-badge.svg\" alt=\"Open In Colab\"/></a>"
      ]
    },
    {
      "cell_type": "code",
      "execution_count": 47,
      "metadata": {
        "colab": {
          "base_uri": "https://localhost:8080/"
        },
        "id": "aeRHcFuXfipX",
        "outputId": "89538a22-f552-445c-ecf9-1420718b0b26"
      },
      "outputs": [
        {
          "output_type": "stream",
          "name": "stdout",
          "text": [
            "MATRICES:\n",
            "\n",
            "A =\n",
            " [[1 2 3]\n",
            " [4 5 6]]\n",
            "B =\n",
            " [[1 2]\n",
            " [3 4]\n",
            " [5 6]]\n",
            "C =\n",
            " [[1 2 3]\n",
            " [4 5 6]\n",
            " [7 8 9]]\n",
            "D =\n",
            " [[1 2]\n",
            " [3 4]] \n",
            "\n",
            "PROBLEMS:\n",
            "\n",
            "a) AB:\n",
            " [[22 28]\n",
            " [49 64]] \n",
            "\n",
            "b) D + D:\n",
            " [[2 4]\n",
            " [6 8]] \n",
            "\n",
            "c) 2C:\n",
            " [[ 2  4  6]\n",
            " [ 8 10 12]\n",
            " [14 16 18]] \n",
            "\n"
          ]
        }
      ],
      "source": [
        "#Problem 1. Consider the four matrices. (20 points each)\n",
        "import numpy as np\n",
        "\n",
        "A = np.array([[1, 2, 3], [4, 5, 6]])\n",
        "B = np.array([[1, 2], [3, 4], [5, 6]])\n",
        "C = np.array([[1, 2, 3], [4, 5, 6], [7, 8, 9]])\n",
        "D = np.array([[1, 2], [3, 4]])\n",
        "\n",
        "print(\"MATRICES:\\n\")\n",
        "print(\"A =\\n\", A)\n",
        "print(\"B =\\n\", B)\n",
        "print(\"C =\\n\", C)\n",
        "print(\"D =\\n\", D, \"\\n\")\n",
        "print(\"PROBLEMS:\\n\")\n",
        "\n",
        "# a. AB\n",
        "a = np.dot(A, B)\n",
        "print(\"a) AB:\\n\", a, \"\\n\")\n",
        "\n",
        "# b. D + D\n",
        "b = np.add(D, D)\n",
        "print(\"b) D + D:\\n\", b, \"\\n\")\n",
        "\n",
        "# c. 2C\n",
        "c = np.dot(2, C)\n",
        "print(\"c) 2C:\\n\", c, \"\\n\")\n"
      ]
    },
    {
      "cell_type": "code",
      "source": [
        "#Problem 2. Find the cross-product of matrices, A = [2,7,4] and B = [3,9,8]. Show your solutions using Python program. (40 points)\n",
        "import numpy as np\n",
        "\n",
        "A = np.array([2, 7, 4])\n",
        "B = np.array([3, 9, 8])\n",
        "\n",
        "print(\"MATRICES:\\n\")\n",
        "print(\"A =\", A)\n",
        "print(\"B =\", B, \"\\n\")\n",
        "print(\"PROBLEM:\\n\")\n",
        "print(\"Find the cross-product of matrices A and B:\")\n",
        "\n",
        "result = np.cross(A, B)\n",
        "print(\"A x B =\", result, \"\\n\")\n",
        "\n",
        "solution = [(A[1]*B[2])-(A[2]*B[1]), (A[2]*B[0])-(A[0]*B[2]), (A[0]*B[1])-(A[1]*B[0])]\n",
        "print(\"SOLUTION:\\n\")\n",
        "print(\"A x B = [(7 * 8)-(4 * 9), (4 * 3)-(2 * 8), (2 * 9)-(7 * 3)]\")\n",
        "print(\"A x B = [(56) - (36), (12) - (16), (18) - (21)]\")\n",
        "print(\"A x B =\", solution)"
      ],
      "metadata": {
        "colab": {
          "base_uri": "https://localhost:8080/"
        },
        "id": "PLX3oselfnaK",
        "outputId": "1d8a33d7-708c-4ff6-8d68-07eafd013c80"
      },
      "execution_count": 46,
      "outputs": [
        {
          "output_type": "stream",
          "name": "stdout",
          "text": [
            "MATRICES:\n",
            "\n",
            "A = [2 7 4]\n",
            "B = [3 9 8] \n",
            "\n",
            "PROBLEM:\n",
            "\n",
            "Find the cross-product of matrices A and B:\n",
            "A x B = [20 -4 -3] \n",
            "\n",
            "SOLUTION:\n",
            "\n",
            "A x B = [(7 * 8)-(4 * 9), (4 * 3)-(2 * 8), (2 * 9)-(7 * 3)]\n",
            "A x B = [(56) - (36), (12) - (16), (18) - (21)]\n",
            "A x B = [20, -4, -3]\n"
          ]
        }
      ]
    }
  ]
}