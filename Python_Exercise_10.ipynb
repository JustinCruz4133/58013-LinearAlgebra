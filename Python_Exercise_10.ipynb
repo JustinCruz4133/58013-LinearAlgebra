{
  "nbformat": 4,
  "nbformat_minor": 0,
  "metadata": {
    "colab": {
      "provenance": [],
      "authorship_tag": "ABX9TyNYs58sjf/7ExDQq41YQiFQ",
      "include_colab_link": true
    },
    "kernelspec": {
      "name": "python3",
      "display_name": "Python 3"
    },
    "language_info": {
      "name": "python"
    }
  },
  "cells": [
    {
      "cell_type": "markdown",
      "metadata": {
        "id": "view-in-github",
        "colab_type": "text"
      },
      "source": [
        "<a href=\"https://colab.research.google.com/github/JustinCruz4133/58013-LinearAlgebra/blob/main/Python_Exercise_10.ipynb\" target=\"_parent\"><img src=\"https://colab.research.google.com/assets/colab-badge.svg\" alt=\"Open In Colab\"/></a>"
      ]
    },
    {
      "cell_type": "code",
      "execution_count": 1,
      "metadata": {
        "colab": {
          "base_uri": "https://localhost:8080/"
        },
        "id": "uHHDk1tMi9CQ",
        "outputId": "58cc7ddd-dc4d-4837-eac6-9a13422422d0"
      },
      "outputs": [
        {
          "output_type": "stream",
          "name": "stdout",
          "text": [
            "[[ 1.  1.  1.]\n",
            " [ 3. -2. -1.]\n",
            " [-1.  4.  2.]]\n",
            "(3, 3)\n",
            "[[ 1.]\n",
            " [ 4.]\n",
            " [-3.]]\n",
            "(3, 1)\n"
          ]
        }
      ],
      "source": [
        "import numpy as np\n",
        "X = np.array([\n",
        "    [1,1,1],\n",
        "    [3,-2,-1],\n",
        "    [-1,4,2]\n",
        "], dtype=float)\n",
        "Y = np.array([\n",
        "    [1],\n",
        "    [4],\n",
        "    [-3]\n",
        "],dtype=float)\n",
        "print(X)\n",
        "print(X.shape)\n",
        "print(Y)\n",
        "print(Y.shape)"
      ]
    },
    {
      "cell_type": "code",
      "source": [
        "#Coding Activity 10\n",
        "#Let x = price for flour per sack\n",
        "#Let y = price for yeast per pack\n",
        "#Let z = price for one piece of egg\n",
        "import numpy as np\n",
        "C = np.array([[30, 10, 120], [40, 20, 200], [50, 40, 360]])\n",
        "C1 = np.array([[12500, 10, 120], [18000, 20, 200], [25700, 40, 360]])\n",
        "C2 = np.array([[30, 12500, 120], [40, 18000, 200], [50, 25700, 360]])\n",
        "C3 = np.array([[30, 10, 12500], [40, 20, 18000], [50, 40, 25700]])\n",
        "\n",
        "print(\"C: \\n\", C, \"\\nC1: \\n\", C1, \"\\nC2: \\n\", C2, \"\\nC3: \\n\", C3, \"\\n\")\n",
        "\n",
        "cdet = round(np.linalg.det(C))\n",
        "c1det = round(np.linalg.det(C1))\n",
        "c2det = round(np.linalg.det(C2))\n",
        "c3det = round(np.linalg.det(C3))\n",
        "\n",
        "print(\"C Det =\", cdet, \"\\nC1 Det =\", c1det, \"\\nC2 Det =\", c2det, \"\\nC3 Det =\", c3det, \"\\n\")\n",
        "\n",
        "x = np.divide(c1det,cdet)\n",
        "y = np.divide(c2det,cdet)\n",
        "z = np.divide(c3det,cdet)\n",
        "print(\"x = C1 Det/C Det =\", x)\n",
        "print(\"y = C2 Det/C Det =\", y)\n",
        "print(\"z = C3 Det/C Det =\", z)"
      ],
      "metadata": {
        "colab": {
          "base_uri": "https://localhost:8080/"
        },
        "id": "sVaIndOJkTd-",
        "outputId": "4379a2e7-19ae-4ce0-faea-ef27ca469d1b"
      },
      "execution_count": 10,
      "outputs": [
        {
          "output_type": "stream",
          "name": "stdout",
          "text": [
            "C: \n",
            " [[ 30  10 120]\n",
            " [ 40  20 200]\n",
            " [ 50  40 360]] \n",
            "C1: \n",
            " [[12500    10   120]\n",
            " [18000    20   200]\n",
            " [25700    40   360]] \n",
            "C2: \n",
            " [[   30 12500   120]\n",
            " [   40 18000   200]\n",
            " [   50 25700   360]] \n",
            "C3: \n",
            " [[   30    10 12500]\n",
            " [   40    20 18000]\n",
            " [   50    40 25700]] \n",
            "\n",
            "C Det = 4000 \n",
            "C1 Det = 1320000 \n",
            "C2 Det = 560000 \n",
            "C3 Det = 40000 \n",
            "\n",
            "x = C1 Det/C Det = 330.0\n",
            "y = C2 Det/C Det = 140.0\n",
            "z = C3 Det/C Det = 10.0\n"
          ]
        }
      ]
    }
  ]
}