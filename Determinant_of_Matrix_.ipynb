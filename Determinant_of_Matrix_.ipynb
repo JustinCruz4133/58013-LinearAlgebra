{
  "nbformat": 4,
  "nbformat_minor": 0,
  "metadata": {
    "colab": {
      "provenance": [],
      "authorship_tag": "ABX9TyNekW+dgJ42nEN0iInueffF",
      "include_colab_link": true
    },
    "kernelspec": {
      "name": "python3",
      "display_name": "Python 3"
    },
    "language_info": {
      "name": "python"
    }
  },
  "cells": [
    {
      "cell_type": "markdown",
      "metadata": {
        "id": "view-in-github",
        "colab_type": "text"
      },
      "source": [
        "<a href=\"https://colab.research.google.com/github/JustinCruz4133/58013-LinearAlgebra/blob/main/Determinant_of_Matrix_.ipynb\" target=\"_parent\"><img src=\"https://colab.research.google.com/assets/colab-badge.svg\" alt=\"Open In Colab\"/></a>"
      ]
    },
    {
      "cell_type": "code",
      "execution_count": 17,
      "metadata": {
        "colab": {
          "base_uri": "https://localhost:8080/"
        },
        "id": "wvQjcLxEo1mU",
        "outputId": "b434dcf8-3a74-41a5-d33d-541df5bdf0d5"
      },
      "outputs": [
        {
          "output_type": "stream",
          "name": "stdout",
          "text": [
            "[[ 1  2 -1]\n",
            " [ 4  6 -2]\n",
            " [-1  3  3]] \n",
            "\n",
            "-14\n"
          ]
        }
      ],
      "source": [
        "# Practice\n",
        "import numpy as np\n",
        "A = np.array([[1, 2, -1], [4, 6, -2], [-1, 3, 3]])\n",
        "print(A, \"\\n\")\n",
        "\n",
        "print(round(np.linalg.det(A)))"
      ]
    }
  ]
}