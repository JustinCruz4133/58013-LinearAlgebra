{
  "nbformat": 4,
  "nbformat_minor": 0,
  "metadata": {
    "colab": {
      "provenance": [],
      "authorship_tag": "ABX9TyPj1/N0LAjkmorDcaCl4xLI",
      "include_colab_link": true
    },
    "kernelspec": {
      "name": "python3",
      "display_name": "Python 3"
    },
    "language_info": {
      "name": "python"
    }
  },
  "cells": [
    {
      "cell_type": "markdown",
      "metadata": {
        "id": "view-in-github",
        "colab_type": "text"
      },
      "source": [
        "<a href=\"https://colab.research.google.com/github/JustinCruz4133/58013-LinearAlgebra/blob/main/Lab2.ipynb\" target=\"_parent\"><img src=\"https://colab.research.google.com/assets/colab-badge.svg\" alt=\"Open In Colab\"/></a>"
      ]
    },
    {
      "cell_type": "markdown",
      "source": [
        "Vector Representation using NumPy"
      ],
      "metadata": {
        "id": "0GWPJOz_RKOn"
      }
    },
    {
      "cell_type": "markdown",
      "source": [
        "Scalars"
      ],
      "metadata": {
        "id": "DtCCaxjDRTpc"
      }
    },
    {
      "cell_type": "code",
      "execution_count": null,
      "metadata": {
        "colab": {
          "base_uri": "https://localhost:8080/"
        },
        "id": "wizGSR7fRG4V",
        "outputId": "fe297d6f-bd28-4d90-aac4-28deaace2703"
      },
      "outputs": [
        {
          "output_type": "stream",
          "name": "stdout",
          "text": [
            "-0.5\n"
          ]
        }
      ],
      "source": [
        "import numpy as np\n",
        "\n",
        "x = np.array(-0.5)\n",
        "print(x)"
      ]
    },
    {
      "cell_type": "markdown",
      "source": [
        "Vectors"
      ],
      "metadata": {
        "id": "ESbp35KZRtsj"
      }
    },
    {
      "cell_type": "code",
      "source": [
        "import numpy as np\n",
        "A = np.array([4,3])\n",
        "B = np.array([2, -5])\n",
        "\n",
        "print('Vector A is ', A)\n",
        "print('Vector B is ', B)"
      ],
      "metadata": {
        "colab": {
          "base_uri": "https://localhost:8080/"
        },
        "id": "2zRUEA31RuZz",
        "outputId": "bd0516a1-b54a-4f4e-d17c-ee395795b321"
      },
      "execution_count": 7,
      "outputs": [
        {
          "output_type": "stream",
          "name": "stdout",
          "text": [
            "Vector A is  [4 3]\n",
            "Vector B is  [ 2 -5]\n"
          ]
        }
      ]
    },
    {
      "cell_type": "code",
      "source": [
        "#Describing vectors in NumPy\n",
        "### Checking shapes\n",
        "### Shapes tells us how many rows and columns are there\n",
        "ball1 = np.array([1,2,3])\n",
        "ball2 = np.array([0,1,-1])\n",
        "pool = np.array([ball1, ball2]) ## Matrix\n",
        "print(pool.shape)\n",
        "\n",
        "U = np.array([\n",
        "    [1, 2],\n",
        "    [2, 3]\n",
        "])\n",
        "print(U.shape)\n",
        "\n",
        "### Checking size\n",
        "### Array/Vector sizes tells us many total number of elements are there in the vector\n",
        "\n",
        "print(U.size)\n",
        "\n",
        "### Checking pool\n",
        "### The dimensions or rank of a vector tells us how many dimensions are there for the vector.\n",
        "A.ndim\n",
        "\n",
        "print(pool.ndim)"
      ],
      "metadata": {
        "id": "q2j-puijSJ-N",
        "outputId": "bab4ec60-96ff-4bd5-f811-22e5b5ce7ea7",
        "colab": {
          "base_uri": "https://localhost:8080/"
        }
      },
      "execution_count": 8,
      "outputs": [
        {
          "output_type": "stream",
          "name": "stdout",
          "text": [
            "(2, 3)\n",
            "(2, 2)\n",
            "4\n",
            "2\n"
          ]
        }
      ]
    }
  ]
}