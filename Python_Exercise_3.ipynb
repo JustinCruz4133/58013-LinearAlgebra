{
  "nbformat": 4,
  "nbformat_minor": 0,
  "metadata": {
    "colab": {
      "provenance": [],
      "authorship_tag": "ABX9TyM0+6lll3AO3mhquwC8EHTN",
      "include_colab_link": true
    },
    "kernelspec": {
      "name": "python3",
      "display_name": "Python 3"
    },
    "language_info": {
      "name": "python"
    }
  },
  "cells": [
    {
      "cell_type": "markdown",
      "metadata": {
        "id": "view-in-github",
        "colab_type": "text"
      },
      "source": [
        "<a href=\"https://colab.research.google.com/github/JustinCruz4133/58013-LinearAlgebra/blob/main/Python_Exercise_3.ipynb\" target=\"_parent\"><img src=\"https://colab.research.google.com/assets/colab-badge.svg\" alt=\"Open In Colab\"/></a>"
      ]
    },
    {
      "cell_type": "markdown",
      "source": [
        "Vector Operations"
      ],
      "metadata": {
        "id": "12gQsgbmW1iW"
      }
    },
    {
      "cell_type": "markdown",
      "source": [
        "Vector Addition"
      ],
      "metadata": {
        "id": "F6KSK1GqW5rL"
      }
    },
    {
      "cell_type": "code",
      "execution_count": 6,
      "metadata": {
        "colab": {
          "base_uri": "https://localhost:8080/"
        },
        "id": "DXFhbb-FWtcp",
        "outputId": "f96ac4f3-594f-40f3-8f5c-4fcf6d6928f6"
      },
      "outputs": [
        {
          "output_type": "stream",
          "name": "stdout",
          "text": [
            "[ 4  3 -1]\n",
            "[ 4  3 -1]\n",
            "2\n"
          ]
        }
      ],
      "source": [
        "import numpy as np\n",
        "A = np.array([1, 2, 0])\n",
        "B = np.array([3, 1, -2])\n",
        "C = np.array([0, 0, 1])\n",
        "\n",
        "print(A + B + C)\n",
        "\n",
        "print(np.add(A, np.add(B, C)))\n",
        "\n",
        "print(np.sum(B))"
      ]
    },
    {
      "cell_type": "markdown",
      "source": [
        "Vector Subtraction"
      ],
      "metadata": {
        "id": "DJmmrdznXkyl"
      }
    },
    {
      "cell_type": "code",
      "source": [
        "print(np.subtract(A, B))\n",
        "\n",
        "print(A - B)"
      ],
      "metadata": {
        "colab": {
          "base_uri": "https://localhost:8080/"
        },
        "id": "gkXy72CsXp89",
        "outputId": "1c5a5fb9-4a1d-47e3-dca9-0b629bedec6d"
      },
      "execution_count": 7,
      "outputs": [
        {
          "output_type": "stream",
          "name": "stdout",
          "text": [
            "[-2  1  2]\n",
            "[-2  1  2]\n"
          ]
        }
      ]
    },
    {
      "cell_type": "markdown",
      "source": [
        "Vector Multiplication"
      ],
      "metadata": {
        "id": "YMDEqawUX8q9"
      }
    },
    {
      "cell_type": "code",
      "source": [
        "print(np.multiply(A, B))\n",
        "\n",
        "print(A * B)"
      ],
      "metadata": {
        "colab": {
          "base_uri": "https://localhost:8080/"
        },
        "id": "804zdyhQX_qV",
        "outputId": "747bd72d-f9b6-4e23-fc90-06e3cac2e33f"
      },
      "execution_count": 8,
      "outputs": [
        {
          "output_type": "stream",
          "name": "stdout",
          "text": [
            "[3 2 0]\n",
            "[3 2 0]\n"
          ]
        }
      ]
    },
    {
      "cell_type": "markdown",
      "source": [
        "Vector Division"
      ],
      "metadata": {
        "id": "1-Vz6tqZYFdt"
      }
    },
    {
      "cell_type": "code",
      "source": [
        "print(np.divide(A, B))\n",
        "\n",
        "print(A / B)\n",
        "\n",
        "C = np.array([3.9, 1.8, 7.7])\n",
        "D = np.array([1, 1, 1])\n",
        "print(C // D)\n",
        "\n",
        "np.array(A / B, dtype = int)"
      ],
      "metadata": {
        "colab": {
          "base_uri": "https://localhost:8080/"
        },
        "id": "7LySD1_aYJDV",
        "outputId": "f756dd2f-db4c-48c8-8212-5a9d741ad4b3"
      },
      "execution_count": 10,
      "outputs": [
        {
          "output_type": "stream",
          "name": "stdout",
          "text": [
            "[ 0.33333333  2.         -0.        ]\n",
            "[ 0.33333333  2.         -0.        ]\n",
            "[3. 1. 7.]\n"
          ]
        },
        {
          "output_type": "execute_result",
          "data": {
            "text/plain": [
              "array([0, 2, 0])"
            ]
          },
          "metadata": {},
          "execution_count": 10
        }
      ]
    }
  ]
}