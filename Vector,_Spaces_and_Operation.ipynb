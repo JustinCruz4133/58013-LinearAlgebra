{
  "nbformat": 4,
  "nbformat_minor": 0,
  "metadata": {
    "colab": {
      "provenance": [],
      "authorship_tag": "ABX9TyO4EK588GtiWwTI4vJ1JYQX",
      "include_colab_link": true
    },
    "kernelspec": {
      "name": "python3",
      "display_name": "Python 3"
    },
    "language_info": {
      "name": "python"
    }
  },
  "cells": [
    {
      "cell_type": "markdown",
      "metadata": {
        "id": "view-in-github",
        "colab_type": "text"
      },
      "source": [
        "<a href=\"https://colab.research.google.com/github/JustinCruz4133/58013-LinearAlgebra/blob/main/Vector%2C_Spaces_and_Operation.ipynb\" target=\"_parent\"><img src=\"https://colab.research.google.com/assets/colab-badge.svg\" alt=\"Open In Colab\"/></a>"
      ]
    },
    {
      "cell_type": "markdown",
      "source": [
        "Vector"
      ],
      "metadata": {
        "id": "EyDgzSxxg4Wa"
      }
    },
    {
      "cell_type": "code",
      "source": [
        "import numpy as np\n",
        "A = np.array([4, 3])\n",
        "B = np.array([2, -5])\n",
        "\n",
        "print('Vector A is', A)\n",
        "print('Vector B is', B)"
      ],
      "metadata": {
        "colab": {
          "base_uri": "https://localhost:8080/"
        },
        "id": "-r9erKZThFsL",
        "outputId": "3ef34ccc-852e-4379-cc78-56116d216665"
      },
      "execution_count": 2,
      "outputs": [
        {
          "output_type": "stream",
          "name": "stdout",
          "text": [
            "Vector A is [4 3]\n",
            "Vector B is [ 2 -5]\n"
          ]
        }
      ]
    },
    {
      "cell_type": "markdown",
      "source": [
        "Shape of the Matrix"
      ],
      "metadata": {
        "id": "ZyV3SVvLjYg-"
      }
    },
    {
      "cell_type": "code",
      "source": [
        "#Checking shapes\n",
        "#Shapes tells us how many rows and columns are there\n",
        "#Size Dimensions, Size\n",
        "import numpy as np\n",
        "ball1 = np.array([1, 2, 3])\n",
        "ball2 = np.array([0, 1, -1])\n",
        "print(ball1)\n",
        "print(ball2)\n",
        "\n",
        "b1 = np.shape(ball1)\n",
        "b2 = np.shape(ball2)\n",
        "\n",
        "print(b1 + b2)\n",
        "\n",
        "x = np.ndim(ball1)\n",
        "y = np.ndim(ball2)\n",
        "\n",
        "print(x)\n",
        "print(y)\n",
        "\n",
        "#pool.shape"
      ],
      "metadata": {
        "colab": {
          "base_uri": "https://localhost:8080/"
        },
        "id": "7b3CD_MTi3sB",
        "outputId": "d10b81a7-3903-4879-da3d-a1c0bbdae7a1"
      },
      "execution_count": 28,
      "outputs": [
        {
          "output_type": "stream",
          "name": "stdout",
          "text": [
            "[1 2 3]\n",
            "[ 0  1 -1]\n",
            "[1 3 2]\n",
            "(3, 3)\n",
            "1\n",
            "1\n"
          ]
        }
      ]
    },
    {
      "cell_type": "markdown",
      "source": [
        "Spaces"
      ],
      "metadata": {
        "id": "flcet0xXig9B"
      }
    },
    {
      "cell_type": "code",
      "source": [
        "#Addition\n",
        "import numpy as np\n",
        "A = np.array([4, 3])\n",
        "B = np.array([2, -5])\n",
        "R1 = A + B\n",
        "R2 = np.add(A, B)\n",
        "\n",
        "print(R1)\n",
        "print(R2)"
      ],
      "metadata": {
        "colab": {
          "base_uri": "https://localhost:8080/"
        },
        "id": "Qx9QMrYgjKFw",
        "outputId": "86db9e71-b0a0-4c87-ec91-64e55b0c10b2"
      },
      "execution_count": 34,
      "outputs": [
        {
          "output_type": "stream",
          "name": "stdout",
          "text": [
            "[ 6 -2]\n",
            "[ 6 -2]\n"
          ]
        }
      ]
    },
    {
      "cell_type": "code",
      "source": [
        "#Subtraction\n",
        "import numpy as np\n",
        "A = np.array([4, 3])\n",
        "B = np.array([2, -5])\n",
        "R1 = A - B\n",
        "R2 = np.subtract(A, B)\n",
        "\n",
        "print(R1)\n",
        "print(R2)"
      ],
      "metadata": {
        "colab": {
          "base_uri": "https://localhost:8080/"
        },
        "id": "ZT2vkdUKt6UE",
        "outputId": "924c82ce-fb7f-4ea3-bd73-cddf3f8b087e"
      },
      "execution_count": 35,
      "outputs": [
        {
          "output_type": "stream",
          "name": "stdout",
          "text": [
            "[2 8]\n",
            "[2 8]\n"
          ]
        }
      ]
    },
    {
      "cell_type": "code",
      "source": [
        "#Scalar Product - Dot\n",
        "import numpy as np\n",
        "A = np.array([4, 3])\n",
        "S = np.array([2])\n",
        "#R1 = S * A\n",
        "R2 = np.multiply(S, A)\n",
        "\n",
        "#print(R1)\n",
        "print(R2)"
      ],
      "metadata": {
        "colab": {
          "base_uri": "https://localhost:8080/"
        },
        "id": "FomswtBsufu6",
        "outputId": "94ef600a-ed25-4161-9a7d-87e8e0c46f60"
      },
      "execution_count": 50,
      "outputs": [
        {
          "output_type": "stream",
          "name": "stdout",
          "text": [
            "[8 6]\n"
          ]
        }
      ]
    },
    {
      "cell_type": "code",
      "source": [
        "#Vector Product - Cross (MULTIPLY)\n",
        "import numpy as np\n",
        "A = np.array([4, 3])\n",
        "B = np.array([[2], [-5]])\n",
        "#R1 = A * B\n",
        "R2 = np.multiply(A, B)\n",
        "\n",
        "#print(R1)\n",
        "print(R2)"
      ],
      "metadata": {
        "colab": {
          "base_uri": "https://localhost:8080/"
        },
        "id": "2kOg4Eu5vK17",
        "outputId": "2325f957-5e0b-44fd-c35f-50f7b69bfa97"
      },
      "execution_count": 48,
      "outputs": [
        {
          "output_type": "stream",
          "name": "stdout",
          "text": [
            "[[  8   6]\n",
            " [-20 -15]]\n"
          ]
        }
      ]
    },
    {
      "cell_type": "code",
      "source": [
        "#Property of Matrix\n",
        "\n",
        "#Identity Matrix\n",
        "c = np.eye(3, 3)\n",
        "print(c)\n",
        "\n",
        "#Zero Matrix\n",
        "d = np.zeros([5, 5])\n",
        "print(d)\n",
        "\n",
        "#Full Matrix\n",
        "e = np.full([3, 3], 7)\n",
        "print(e)\n",
        "\n",
        "#Transpose of Matrix\n",
        "A = np.array([4, 3])\n",
        "B = np.array([[2], [-5]])\n",
        "R2 = np.multiply(A, B)\n",
        "\n",
        "f = np.transpose(R2)\n",
        "print(f)"
      ],
      "metadata": {
        "colab": {
          "base_uri": "https://localhost:8080/"
        },
        "id": "5N5ZlQ00zBcF",
        "outputId": "acb5b6b8-cb67-4e97-ad1b-aa43d8768460"
      },
      "execution_count": 61,
      "outputs": [
        {
          "output_type": "stream",
          "name": "stdout",
          "text": [
            "[[1. 0. 0.]\n",
            " [0. 1. 0.]\n",
            " [0. 0. 1.]]\n",
            "[[0. 0. 0. 0. 0.]\n",
            " [0. 0. 0. 0. 0.]\n",
            " [0. 0. 0. 0. 0.]\n",
            " [0. 0. 0. 0. 0.]\n",
            " [0. 0. 0. 0. 0.]]\n",
            "[[7 7 7]\n",
            " [7 7 7]\n",
            " [7 7 7]]\n",
            "[[  8 -20]\n",
            " [  6 -15]]\n"
          ]
        }
      ]
    }
  ]
}