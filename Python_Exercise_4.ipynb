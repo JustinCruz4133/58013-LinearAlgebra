{
  "nbformat": 4,
  "nbformat_minor": 0,
  "metadata": {
    "colab": {
      "provenance": [],
      "authorship_tag": "ABX9TyMpvTwKXfKU9XW7PMqKQpaw",
      "include_colab_link": true
    },
    "kernelspec": {
      "name": "python3",
      "display_name": "Python 3"
    },
    "language_info": {
      "name": "python"
    }
  },
  "cells": [
    {
      "cell_type": "markdown",
      "metadata": {
        "id": "view-in-github",
        "colab_type": "text"
      },
      "source": [
        "<a href=\"https://colab.research.google.com/github/JustinCruz4133/58013-LinearAlgebra/blob/main/Python_Exercise_4.ipynb\" target=\"_parent\"><img src=\"https://colab.research.google.com/assets/colab-badge.svg\" alt=\"Open In Colab\"/></a>"
      ]
    },
    {
      "cell_type": "markdown",
      "source": [
        "Vector Operations and Its Applications"
      ],
      "metadata": {
        "id": "T2xM_iYLD9zh"
      }
    },
    {
      "cell_type": "code",
      "execution_count": 28,
      "metadata": {
        "colab": {
          "base_uri": "https://localhost:8080/"
        },
        "id": "e-zCMeTUqcgP",
        "outputId": "d902d563-a006-4ca1-a3ad-a22c5b829234"
      },
      "outputs": [
        {
          "output_type": "stream",
          "name": "stdout",
          "text": [
            "Array A:\n",
            " [[-0.4]\n",
            " [ 4.3]\n",
            " [-0.6]] \n",
            "Array B:\n",
            " [-0.2  0.2  1. ] \n",
            "Array C:\n",
            " [-0.2  2.1 -1.5]\n",
            "\n",
            "Addition of Arrays (A+B+C):\n",
            " [[-0.8  1.9 -0.9]\n",
            " [ 3.9  6.6  3.8]\n",
            " [-1.   1.7 -1.1]]\n",
            "Subtraction of Arrays (A-B-C):\n",
            " [[ 0.  -2.7  0.1]\n",
            " [ 4.7  2.   4.8]\n",
            " [-0.2 -2.9 -0.1]]\n",
            "Multiplication of Arrays (A*B*C):\n",
            " [[-0.016 -0.168  0.6  ]\n",
            " [ 0.172  1.806 -6.45 ]\n",
            " [-0.024 -0.252  0.9  ]]\n",
            "Division of Arrays (A/B/C):\n",
            " [[-10.          -0.95238095   0.26666667]\n",
            " [107.5         10.23809524  -2.86666667]\n",
            " [-15.          -1.42857143   0.4       ]]\n"
          ]
        }
      ],
      "source": [
        "import numpy as np\n",
        "A = np.array([[-0.4],[4.3],[-0.6]])\n",
        "B = np.array([-0.2, 0.2, 1])\n",
        "C = np.array([-0.2, 2.1, -1.5])\n",
        "print(\"Array A:\\n\", A, \"\\nArray B:\\n\", B, \"\\nArray C:\\n\", C)\n",
        "\n",
        "sum = np.add(np.add(A,B), C)\n",
        "diff = np.subtract(np.subtract(A,B), C)\n",
        "prod = np.multiply(np.multiply(A,B), C)\n",
        "quot = np.divide(np.divide(A,B), C)\n",
        "\n",
        "print(\"\\nAddition of Arrays (A+B+C):\\n\", sum)\n",
        "print(\"Subtraction of Arrays (A-B-C):\\n\", diff)\n",
        "print(\"Multiplication of Arrays (A*B*C):\\n\", prod)\n",
        "print(\"Division of Arrays (A/B/C):\\n\", quot)"
      ]
    }
  ]
}